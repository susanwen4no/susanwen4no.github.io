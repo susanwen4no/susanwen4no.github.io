{
 "cells": [
  {
   "cell_type": "markdown",
   "id": "intended-liechtenstein",
   "metadata": {},
   "source": [
    "# <center>Title here</center>\n",
    "<center>by Susan Wen</center>"
   ]
  },
  {
   "cell_type": "markdown",
   "id": "manual-tribute",
   "metadata": {},
   "source": [
    "## Motivation"
   ]
  },
  {
   "cell_type": "markdown",
   "id": "nuclear-monday",
   "metadata": {},
   "source": [
    "// TODO"
   ]
  },
  {
   "cell_type": "markdown",
   "id": "defensive-referral",
   "metadata": {},
   "source": [
    "## Gathering Data"
   ]
  },
  {
   "cell_type": "markdown",
   "id": "forbidden-circle",
   "metadata": {},
   "source": [
    "// TODO"
   ]
  },
  {
   "cell_type": "code",
   "execution_count": null,
   "id": "attempted-passenger",
   "metadata": {},
   "outputs": [],
   "source": []
  }
 ],
 "metadata": {
  "kernelspec": {
   "display_name": "Python 3",
   "language": "python",
   "name": "python3"
  },
  "language_info": {
   "codemirror_mode": {
    "name": "ipython",
    "version": 3
   },
   "file_extension": ".py",
   "mimetype": "text/x-python",
   "name": "python",
   "nbconvert_exporter": "python",
   "pygments_lexer": "ipython3",
   "version": "3.8.6"
  }
 },
 "nbformat": 4,
 "nbformat_minor": 5
}
